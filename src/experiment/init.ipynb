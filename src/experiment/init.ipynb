{
 "cells": [
  {
   "cell_type": "markdown",
   "id": "d21adf54",
   "metadata": {},
   "source": [
    "# Initialization"
   ]
  },
  {
   "cell_type": "code",
   "execution_count": null,
   "id": "5b288ecb",
   "metadata": {},
   "outputs": [
    {
     "name": "stdout",
     "output_type": "stream",
     "text": [
      "c:\\Users\\Attila\\OneDrive - Tenderauditor Kft\\Saját\\WideFork\\src\\experiment\n"
     ]
    },
    {
     "data": {
      "text/plain": [
       "<module 'backend.api.utils.database.add_user' from 'c:\\\\Users/Attila/OneDrive - Tenderauditor Kft/Saját/WideFork/src\\\\backend\\\\api\\\\utils\\\\database\\\\add_user.py'>"
      ]
     },
     "execution_count": 48,
     "metadata": {},
     "output_type": "execute_result"
    }
   ],
   "source": [
    "import os\n",
    "import sys\n",
    "import importlib\n",
    "\n",
    "sys.path.append(\"c:/Users/Attila/OneDrive - Tenderauditor Kft/Saját/WideFork/src\")\n",
    "\n",
    "print(os.getcwd())\n",
    "\n",
    "from backend.api.postmodels import model_table\n",
    "from backend.api.config import configmodel\n",
    "from backend.api.utils.database import create_master_data_table\n",
    "from backend.api.utils.database import manage_user\n",
    "\n",
    "importlib.reload(manage_user)\n"
   ]
  },
  {
   "cell_type": "code",
   "execution_count": 49,
   "id": "402701f7",
   "metadata": {},
   "outputs": [],
   "source": [
    "config = configmodel.ConfigModel(\n",
    "    db_host=\"localhost\",\n",
    "    db_port=\"3310\",\n",
    "    db_user=\"root\",\n",
    "    db_pw=\"admin\"    \n",
    ")"
   ]
  },
  {
   "cell_type": "code",
   "execution_count": 50,
   "id": "caf0fd9f",
   "metadata": {},
   "outputs": [
    {
     "name": "stdout",
     "output_type": "stream",
     "text": [
      "[ERROR] A MariaDB error has occured - Process: [Create Mastertable] | Error: Table 'users_init' already exists\n",
      "False\n",
      "Table 'users_init' already exists\n"
     ]
    }
   ],
   "source": [
    "table = model_table.ModelMasterDataTable(\n",
    "    table_name = \"init\",\n",
    "    table_type = \"Users\"\n",
    ")\n",
    "\n",
    "res = await create_master_data_table.createMasterDataTable(\n",
    "    config=config,\n",
    "    table=table\n",
    ")\n",
    "\n",
    "print (res[\"result\"])\n",
    "print (res[\"message\"])"
   ]
  },
  {
   "cell_type": "code",
   "execution_count": 51,
   "id": "229b5d55",
   "metadata": {},
   "outputs": [
    {
     "name": "stdout",
     "output_type": "stream",
     "text": [
      "[ERROR] A MariaDB error has occured - Process: [Create Mastertable] | Error: Table 'api_keys_init' already exists\n",
      "False\n",
      "Table 'api_keys_init' already exists\n"
     ]
    }
   ],
   "source": [
    "table = model_table.ModelMasterDataTable(\n",
    "    table_name = \"init\",\n",
    "    table_type = \"Api keys\"\n",
    ")\n",
    "\n",
    "res = await create_master_data_table.createMasterDataTable(\n",
    "    config=config,\n",
    "    table=table\n",
    ")\n",
    "\n",
    "print (res[\"result\"])\n",
    "print (res[\"message\"])"
   ]
  },
  {
   "cell_type": "code",
   "execution_count": null,
   "id": "beacac42",
   "metadata": {},
   "outputs": [
    {
     "name": "stdout",
     "output_type": "stream",
     "text": [
      "[ERROR] A MariaDB error has occured - Process: [Add user] | Error: Duplicate entry 'admin' for key 'PRIMARY'\n",
      "False\n",
      "Duplicate entry 'admin' for key 'PRIMARY'\n"
     ]
    }
   ],
   "source": [
    "res = await manage_user.addUser(    \n",
    "    config=config,\n",
    "    table_name=\"init\",\n",
    "    username=\"admin\",\n",
    "    email=\"test email\",\n",
    "    role=\"A\"\n",
    ")\n",
    "\n",
    "print (res[\"result\"])\n",
    "print (res[\"message\"])"
   ]
  }
 ],
 "metadata": {
  "kernelspec": {
   "display_name": ".venv",
   "language": "python",
   "name": "python3"
  },
  "language_info": {
   "codemirror_mode": {
    "name": "ipython",
    "version": 3
   },
   "file_extension": ".py",
   "mimetype": "text/x-python",
   "name": "python",
   "nbconvert_exporter": "python",
   "pygments_lexer": "ipython3",
   "version": "3.12.1"
  }
 },
 "nbformat": 4,
 "nbformat_minor": 5
}
