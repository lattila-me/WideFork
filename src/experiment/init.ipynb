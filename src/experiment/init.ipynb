{
 "cells": [
  {
   "cell_type": "markdown",
   "id": "d21adf54",
   "metadata": {},
   "source": [
    "# Initialization"
   ]
  },
  {
   "cell_type": "code",
   "execution_count": 1,
   "id": "5b288ecb",
   "metadata": {},
   "outputs": [
    {
     "name": "stdout",
     "output_type": "stream",
     "text": [
      "c:\\Users\\Attila\\OneDrive - Tenderauditor Kft\\Saját\\WideFork\\src\\experiment\n",
      "WideFork Models imported.\n",
      "WideFork Configuration Models imported.\n",
      "WideFork Utilities imported.\n",
      "WideFork Database utilities imported.\n",
      "WideFork Models imported.\n",
      "WideFork Models imported.\n",
      "WideFork Models imported.\n",
      "WideFork Models imported.\n",
      "WideFork Models imported.\n",
      "WideFork Models imported.\n",
      "WideFork Models imported.\n",
      "WideFork Configuration Models imported.\n",
      "WideFork Utilities imported.\n"
     ]
    },
    {
     "data": {
      "text/plain": [
       "<module 'backend.api.utils' from 'c:\\\\Users/Attila/OneDrive - Tenderauditor Kft/Saját/WideFork/src\\\\backend\\\\api\\\\utils\\\\__init__.py'>"
      ]
     },
     "execution_count": 1,
     "metadata": {},
     "output_type": "execute_result"
    }
   ],
   "source": [
    "import os\n",
    "import sys\n",
    "import importlib\n",
    "\n",
    "sys.path.append(\"c:/Users/Attila/OneDrive - Tenderauditor Kft/Saját/WideFork/src\")\n",
    "\n",
    "print(os.getcwd())\n",
    "\n",
    "import backend.api.models as models\n",
    "import backend.api.config as config\n",
    "import backend.api.utils as utils\n",
    "\n",
    "importlib.reload(models)\n",
    "importlib.reload(config)\n",
    "importlib.reload(utils)"
   ]
  },
  {
   "cell_type": "code",
   "execution_count": 2,
   "id": "402701f7",
   "metadata": {},
   "outputs": [],
   "source": [
    "config = config.ConfigModel(\n",
    "    db_host=\"localhost\",\n",
    "    db_port=\"3310\",\n",
    "    db_user=\"root\",\n",
    "    db_pw=\"admin\"    \n",
    ")"
   ]
  },
  {
   "cell_type": "code",
   "execution_count": 3,
   "id": "723c5802",
   "metadata": {},
   "outputs": [
    {
     "name": "stdout",
     "output_type": "stream",
     "text": [
      "[ERROR] An error has occured - Process: [Initialize Project] | Error: ExecuteSQLCommand() missing 1 required positional argument: 'sql_command_type'\n"
     ]
    }
   ],
   "source": [
    "res = await utils.initProject(\n",
    "    config=config\n",
    ")\n",
    "\n",
    "# print(res[\"result\"])\n",
    "# print(res[\"message\"])"
   ]
  }
 ],
 "metadata": {
  "kernelspec": {
   "display_name": ".venv",
   "language": "python",
   "name": "python3"
  },
  "language_info": {
   "codemirror_mode": {
    "name": "ipython",
    "version": 3
   },
   "file_extension": ".py",
   "mimetype": "text/x-python",
   "name": "python",
   "nbconvert_exporter": "python",
   "pygments_lexer": "ipython3",
   "version": "3.12.1"
  }
 },
 "nbformat": 4,
 "nbformat_minor": 5
}
