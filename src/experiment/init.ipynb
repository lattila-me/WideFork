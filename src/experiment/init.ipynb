{
 "cells": [
  {
   "cell_type": "markdown",
   "id": "d21adf54",
   "metadata": {},
   "source": [
    "# Initialization"
   ]
  },
  {
   "cell_type": "code",
   "execution_count": null,
   "id": "5b288ecb",
   "metadata": {},
   "outputs": [
    {
     "name": "stdout",
     "output_type": "stream",
     "text": [
      "c:\\Users\\Attila\\OneDrive - Tenderauditor Kft\\Saját\\WideFork\\src\\experiment\n",
      "WideFork Configuration Models imported.\n"
     ]
    },
    {
     "ename": "ModuleNotFoundError",
     "evalue": "No module named 'config'",
     "output_type": "error",
     "traceback": [
      "\u001b[31m---------------------------------------------------------------------------\u001b[39m",
      "\u001b[31mModuleNotFoundError\u001b[39m                       Traceback (most recent call last)",
      "\u001b[36mCell\u001b[39m\u001b[36m \u001b[39m\u001b[32mIn[3]\u001b[39m\u001b[32m, line 10\u001b[39m\n\u001b[32m      7\u001b[39m \u001b[38;5;28mprint\u001b[39m(os.getcwd())\n\u001b[32m      9\u001b[39m \u001b[38;5;28;01mimport\u001b[39;00m\u001b[38;5;250m \u001b[39m\u001b[34;01mbackend\u001b[39;00m\u001b[34;01m.\u001b[39;00m\u001b[34;01mapi\u001b[39;00m\u001b[34;01m.\u001b[39;00m\u001b[34;01mpostmodels\u001b[39;00m\u001b[38;5;250m \u001b[39m\u001b[38;5;28;01mas\u001b[39;00m\u001b[38;5;250m \u001b[39m\u001b[34;01mpostmodels\u001b[39;00m\n\u001b[32m---> \u001b[39m\u001b[32m10\u001b[39m \u001b[38;5;28;01mimport\u001b[39;00m\u001b[38;5;250m \u001b[39m\u001b[34;01mbackend\u001b[39;00m\u001b[34;01m.\u001b[39;00m\u001b[34;01mapi\u001b[39;00m\u001b[34;01m.\u001b[39;00m\u001b[34;01mconfig\u001b[39;00m\u001b[38;5;250m \u001b[39m\u001b[38;5;28;01mas\u001b[39;00m\u001b[38;5;250m \u001b[39m\u001b[34;01mconfig\u001b[39;00m\n\u001b[32m     11\u001b[39m \u001b[38;5;28;01mimport\u001b[39;00m\u001b[38;5;250m \u001b[39m\u001b[34;01mbackend\u001b[39;00m\u001b[34;01m.\u001b[39;00m\u001b[34;01mapi\u001b[39;00m\u001b[34;01m.\u001b[39;00m\u001b[34;01mutils\u001b[39;00m\u001b[38;5;250m \u001b[39m\u001b[38;5;28;01mas\u001b[39;00m\u001b[38;5;250m \u001b[39m\u001b[34;01mutils\u001b[39;00m\n\u001b[32m     13\u001b[39m importlib.reload(postmodels)\n",
      "\u001b[36mFile \u001b[39m\u001b[32mc:\\Users/Attila/OneDrive - Tenderauditor Kft/Saját/WideFork/src\\backend\\api\\config\\__init__.py:12\u001b[39m\n\u001b[32m      9\u001b[39m \u001b[38;5;28mprint\u001b[39m (\u001b[33m\"\u001b[39m\u001b[33mWideFork Configuration Models imported.\u001b[39m\u001b[33m\"\u001b[39m)\n\u001b[32m     11\u001b[39m \u001b[38;5;28;01mfrom\u001b[39;00m\u001b[38;5;250m \u001b[39m\u001b[34;01m.\u001b[39;00m\u001b[34;01mconfigmodel\u001b[39;00m\u001b[38;5;250m \u001b[39m\u001b[38;5;28;01mimport\u001b[39;00m ConfigModel\n\u001b[32m---> \u001b[39m\u001b[32m12\u001b[39m \u001b[38;5;28;01mfrom\u001b[39;00m\u001b[38;5;250m \u001b[39m\u001b[34;01m.\u001b[39;00m\u001b[34;01mconfiguration\u001b[39;00m\u001b[38;5;250m \u001b[39m\u001b[38;5;28;01mimport\u001b[39;00m Config\n",
      "\u001b[36mFile \u001b[39m\u001b[32mc:\\Users/Attila/OneDrive - Tenderauditor Kft/Saját/WideFork/src\\backend\\api\\config\\configuration.py:1\u001b[39m\n\u001b[32m----> \u001b[39m\u001b[32m1\u001b[39m \u001b[38;5;28;01mfrom\u001b[39;00m\u001b[38;5;250m \u001b[39m\u001b[34;01mconfig\u001b[39;00m\u001b[38;5;250m \u001b[39m\u001b[38;5;28;01mimport\u001b[39;00m configmodel\n\u001b[32m      3\u001b[39m \u001b[38;5;28;01mimport\u001b[39;00m\u001b[38;5;250m \u001b[39m\u001b[34;01mimportlib\u001b[39;00m\n\u001b[32m      5\u001b[39m importlib.reload(configmodel)\n",
      "\u001b[31mModuleNotFoundError\u001b[39m: No module named 'config'"
     ]
    }
   ],
   "source": [
    "import os\n",
    "import sys\n",
    "import importlib\n",
    "\n",
    "sys.path.append(\"c:/Users/Attila/OneDrive - Tenderauditor Kft/Saját/WideFork/src\")\n",
    "\n",
    "print(os.getcwd())\n",
    "\n",
    "import backend.api.postmodels as postmodels\n",
    "from backend.api.config import ConfigModel\n",
    "import backend.api.utils as utils\n",
    "\n",
    "importlib.reload(postmodels)\n",
    "importlib.reload(ConfigModel)\n",
    "importlib.reload(utils)"
   ]
  },
  {
   "cell_type": "code",
   "execution_count": 8,
   "id": "402701f7",
   "metadata": {},
   "outputs": [],
   "source": [
    "config = configmodel.ConfigModel(\n",
    "    db_host=\"localhost\",\n",
    "    db_port=\"3310\",\n",
    "    db_user=\"root\",\n",
    "    db_pw=\"admin\"    \n",
    ")"
   ]
  },
  {
   "cell_type": "code",
   "execution_count": 9,
   "id": "caf0fd9f",
   "metadata": {},
   "outputs": [
    {
     "ename": "AttributeError",
     "evalue": "module 'backend.api.utils' has no attribute 'create_master_data_table'",
     "output_type": "error",
     "traceback": [
      "\u001b[31m---------------------------------------------------------------------------\u001b[39m",
      "\u001b[31mAttributeError\u001b[39m                            Traceback (most recent call last)",
      "\u001b[36mCell\u001b[39m\u001b[36m \u001b[39m\u001b[32mIn[9]\u001b[39m\u001b[32m, line 6\u001b[39m\n\u001b[32m      1\u001b[39m table = postmodels.ModelMasterDataTable(\n\u001b[32m      2\u001b[39m     table_name = \u001b[33m\"\u001b[39m\u001b[33minit\u001b[39m\u001b[33m\"\u001b[39m,\n\u001b[32m      3\u001b[39m     table_type = \u001b[33m\"\u001b[39m\u001b[33mUsers\u001b[39m\u001b[33m\"\u001b[39m\n\u001b[32m      4\u001b[39m )\n\u001b[32m----> \u001b[39m\u001b[32m6\u001b[39m res = \u001b[38;5;28;01mawait\u001b[39;00m \u001b[43mutils\u001b[49m\u001b[43m.\u001b[49m\u001b[43mcreate_master_data_table\u001b[49m(\n\u001b[32m      7\u001b[39m     config=config,\n\u001b[32m      8\u001b[39m     table=table\n\u001b[32m      9\u001b[39m )\n\u001b[32m     11\u001b[39m \u001b[38;5;28mprint\u001b[39m (res[\u001b[33m\"\u001b[39m\u001b[33mresult\u001b[39m\u001b[33m\"\u001b[39m])\n\u001b[32m     12\u001b[39m \u001b[38;5;28mprint\u001b[39m (res[\u001b[33m\"\u001b[39m\u001b[33mmessage\u001b[39m\u001b[33m\"\u001b[39m])\n",
      "\u001b[31mAttributeError\u001b[39m: module 'backend.api.utils' has no attribute 'create_master_data_table'"
     ]
    }
   ],
   "source": [
    "table = postmodels.ModelMasterDataTable(\n",
    "    table_name = \"init\",\n",
    "    table_type = \"Users\"\n",
    ")\n",
    "\n",
    "res = await utils.create_master_data_table(\n",
    "    config=config,\n",
    "    table=table\n",
    ")\n",
    "\n",
    "print (res[\"result\"])\n",
    "print (res[\"message\"])"
   ]
  },
  {
   "cell_type": "code",
   "execution_count": null,
   "id": "229b5d55",
   "metadata": {},
   "outputs": [
    {
     "name": "stdout",
     "output_type": "stream",
     "text": [
      "[ERROR] A MariaDB error has occured - Process: [Create Mastertable] | Error: Table 'api_keys_init' already exists\n",
      "False\n",
      "Table 'api_keys_init' already exists\n"
     ]
    }
   ],
   "source": [
    "table = model_table.ModelMasterDataTable(\n",
    "    table_name = \"init\",\n",
    "    table_type = \"Api keys\"\n",
    ")\n",
    "\n",
    "res = await create_master_data_table.createMasterDataTable(\n",
    "    config=config,\n",
    "    table=table\n",
    ")\n",
    "\n",
    "print (res[\"result\"])\n",
    "print (res[\"message\"])"
   ]
  },
  {
   "cell_type": "code",
   "execution_count": null,
   "id": "beacac42",
   "metadata": {},
   "outputs": [
    {
     "name": "stdout",
     "output_type": "stream",
     "text": [
      "[ERROR] A MariaDB error has occured - Process: [Add user] | Error: Duplicate entry 'admin' for key 'PRIMARY'\n",
      "False\n",
      "Duplicate entry 'admin' for key 'PRIMARY'\n"
     ]
    }
   ],
   "source": [
    "res = await manage_user.addUser(    \n",
    "    config=config,\n",
    "    table_name=\"init\",\n",
    "    username=\"admin\",\n",
    "    email=\"test.email@email.com\",\n",
    "    role=\"A\"\n",
    ")\n",
    "\n",
    "print (res[\"result\"])\n",
    "print (res[\"message\"])"
   ]
  },
  {
   "cell_type": "code",
   "execution_count": null,
   "id": "cc4c7b2a",
   "metadata": {},
   "outputs": [
    {
     "name": "stdout",
     "output_type": "stream",
     "text": [
      "True\n",
      "SQL Command executed.\n"
     ]
    }
   ],
   "source": [
    "res = await manage_api_key.addAPIKey(    \n",
    "    config=config,\n",
    "    table_name=\"init\",\n",
    "    username=\"admin\"\n",
    ")    \n",
    "\n",
    "print (res[\"result\"])\n",
    "print (res[\"message\"])"
   ]
  }
 ],
 "metadata": {
  "kernelspec": {
   "display_name": ".venv",
   "language": "python",
   "name": "python3"
  },
  "language_info": {
   "codemirror_mode": {
    "name": "ipython",
    "version": 3
   },
   "file_extension": ".py",
   "mimetype": "text/x-python",
   "name": "python",
   "nbconvert_exporter": "python",
   "pygments_lexer": "ipython3",
   "version": "3.12.1"
  }
 },
 "nbformat": 4,
 "nbformat_minor": 5
}
