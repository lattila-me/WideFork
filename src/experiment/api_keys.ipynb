{
 "cells": [
  {
   "cell_type": "markdown",
   "id": "c61476ea",
   "metadata": {},
   "source": [
    "# Creating an API key"
   ]
  },
  {
   "cell_type": "code",
   "execution_count": null,
   "id": "3383be48",
   "metadata": {},
   "outputs": [
    {
     "name": "stdout",
     "output_type": "stream",
     "text": [
      "2895803af3543387174621f43570d676ca7d796562b700e84c934f724122aa07\n",
      "e117ee27a80c85418bfc\n"
     ]
    }
   ],
   "source": [
    "import secrets\n",
    "import hashlib\n",
    "from datetime import datetime\n",
    "\n",
    "# Complicated version\n",
    "now = str(datetime.now)\n",
    "api_key = hashlib.sha256(str(secrets.token_hex(16) + now).encode())\n",
    "print(api_key.hexdigest())\n",
    "\n",
    "# Simple version\n",
    "print(secrets.token_hex(10))"
   ]
  }
 ],
 "metadata": {
  "kernelspec": {
   "display_name": ".venv",
   "language": "python",
   "name": "python3"
  },
  "language_info": {
   "codemirror_mode": {
    "name": "ipython",
    "version": 3
   },
   "file_extension": ".py",
   "mimetype": "text/x-python",
   "name": "python",
   "nbconvert_exporter": "python",
   "pygments_lexer": "ipython3",
   "version": "3.12.1"
  }
 },
 "nbformat": 4,
 "nbformat_minor": 5
}
