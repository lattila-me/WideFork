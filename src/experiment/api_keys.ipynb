{
 "cells": [
  {
   "cell_type": "markdown",
   "id": "c61476ea",
   "metadata": {},
   "source": [
    "# Creating an API key"
   ]
  },
  {
   "cell_type": "code",
   "execution_count": 116,
   "id": "3383be48",
   "metadata": {},
   "outputs": [
    {
     "name": "stdout",
     "output_type": "stream",
     "text": [
      "f9dc9f8bca3f0082123e2a872888eef9\n",
      "46c5931bcd3509341966\n"
     ]
    }
   ],
   "source": [
    "import secrets\n",
    "import hashlib\n",
    "from datetime import datetime\n",
    "\n",
    "# Complicated version\n",
    "now = str(datetime.now())\n",
    "api_key = hashlib.md5(str(secrets.token_hex(10) + now).encode())\n",
    "print(api_key.hexdigest())\n",
    "\n",
    "# Simple version\n",
    "simple_apy_key = str(secrets.token_hex(10))\n",
    "print(simple_apy_key)"
   ]
  }
 ],
 "metadata": {
  "kernelspec": {
   "display_name": ".venv",
   "language": "python",
   "name": "python3"
  },
  "language_info": {
   "codemirror_mode": {
    "name": "ipython",
    "version": 3
   },
   "file_extension": ".py",
   "mimetype": "text/x-python",
   "name": "python",
   "nbconvert_exporter": "python",
   "pygments_lexer": "ipython3",
   "version": "3.12.1"
  }
 },
 "nbformat": 4,
 "nbformat_minor": 5
}
